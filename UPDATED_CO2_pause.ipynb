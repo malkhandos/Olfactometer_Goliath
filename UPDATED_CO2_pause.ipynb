{
 "cells": [
  {
   "cell_type": "code",
   "execution_count": 1,
   "metadata": {},
   "outputs": [
    {
     "name": "stdout",
     "output_type": "stream",
     "text": [
      "begin\n"
     ]
    },
    {
     "ename": "IndexError",
     "evalue": "list index out of range",
     "output_type": "error",
     "traceback": [
      "\u001b[1;31m---------------------------------------------------------------------------\u001b[0m",
      "\u001b[1;31mIndexError\u001b[0m                                Traceback (most recent call last)",
      "\u001b[1;32m<ipython-input-1-15963af6a403>\u001b[0m in \u001b[0;36m<module>\u001b[1;34m\u001b[0m\n\u001b[0;32m     21\u001b[0m \u001b[0mprint\u001b[0m\u001b[1;33m(\u001b[0m\u001b[1;34m'begin'\u001b[0m\u001b[1;33m)\u001b[0m\u001b[1;33m\u001b[0m\u001b[1;33m\u001b[0m\u001b[0m\n\u001b[0;32m     22\u001b[0m \u001b[0mdevices\u001b[0m \u001b[1;33m=\u001b[0m \u001b[0mul\u001b[0m\u001b[1;33m.\u001b[0m\u001b[0mget_daq_device_inventory\u001b[0m\u001b[1;33m(\u001b[0m\u001b[0mInterfaceType\u001b[0m\u001b[1;33m.\u001b[0m\u001b[0mANY\u001b[0m\u001b[1;33m)\u001b[0m\u001b[1;33m\u001b[0m\u001b[1;33m\u001b[0m\u001b[0m\n\u001b[1;32m---> 23\u001b[1;33m \u001b[0mnose_machine\u001b[0m \u001b[1;33m=\u001b[0m \u001b[0mdevices\u001b[0m\u001b[1;33m[\u001b[0m\u001b[1;36m0\u001b[0m\u001b[1;33m]\u001b[0m\u001b[1;33m\u001b[0m\u001b[1;33m\u001b[0m\u001b[0m\n\u001b[0m\u001b[0;32m     24\u001b[0m \u001b[0mprint\u001b[0m\u001b[1;33m(\u001b[0m\u001b[0mnose_machine\u001b[0m\u001b[1;33m)\u001b[0m\u001b[1;33m\u001b[0m\u001b[1;33m\u001b[0m\u001b[0m\n\u001b[0;32m     25\u001b[0m \u001b[1;31m# we have the 8 8 board\u001b[0m\u001b[1;33m\u001b[0m\u001b[1;33m\u001b[0m\u001b[1;33m\u001b[0m\u001b[0m\n",
      "\u001b[1;31mIndexError\u001b[0m: list index out of range"
     ]
    }
   ],
   "source": [
    "#!/usr/bin/env python\n",
    "# coding: utf-8\n",
    "#Run this only once\n",
    "from mcculw import ul\n",
    "from mcculw.ul import ULError\n",
    "from mcculw.enums import ULRange\n",
    "from mcculw.enums import InterfaceType\n",
    "from mcculw.enums import BoardInfo\n",
    "from mcculw.enums import DigitalInfo\n",
    "from mcculw.enums import InfoType\n",
    "from time import sleep\n",
    "import sys\n",
    "import matplotlib.pyplot as plt\n",
    "from matplotlib import interactive\n",
    "\n",
    "board_num = 0\n",
    "channel = 0\n",
    "ai_range = ULRange.BIP5VOLTS\n",
    "\n",
    "\n",
    "print('begin')\n",
    "devices = ul.get_daq_device_inventory(InterfaceType.ANY)\n",
    "nose_machine = devices[0]\n",
    "print(nose_machine)\n",
    "# we have the 8 8 board\n",
    "\n",
    "# add device to ul - wat does this do?\n",
    "ul.create_daq_device(board_num, nose_machine)\n",
    "\n",
    "\n",
    "ul.get_config(InfoType.DIGITALINFO, board_num, 0, DigitalInfo.DEVTYPE)\n",
    "ul.get_config(InfoType.DIGITALINFO, board_num, 0, DigitalInfo.NUMBITS)\n",
    "ul.get_config(InfoType.DIGITALINFO, board_num, 0, DigitalInfo.CURVAL)\n",
    "ul.get_config(InfoType.DIGITALINFO, board_num, 0, DigitalInfo.INMASK)\n",
    "ul.get_config(InfoType.DIGITALINFO, board_num, 0, DigitalInfo.OUTMASK)\n",
    "ul.get_config(InfoType.BOARDINFO, board_num, 0, BoardInfo.DINUMDEVS)\n",
    "ul.get_config(InfoType.DIGITALINFO, board_num, 0, DigitalInfo.CONFIG)"
   ]
  },
  {
   "cell_type": "code",
   "execution_count": 2,
   "metadata": {},
   "outputs": [],
   "source": [
    "%matplotlib qt"
   ]
  },
  {
   "cell_type": "code",
   "execution_count": null,
   "metadata": {},
   "outputs": [],
   "source": []
  },
  {
   "cell_type": "code",
   "execution_count": 3,
   "metadata": {},
   "outputs": [],
   "source": [
    "#0 means closed, and 1 means open\n",
    "#board_num, 1 (always 1), valve number, open or close (1 or 0)\n",
    "#this makes sure all valves are closed\n",
    "def close_all():\n",
    "    \n",
    "    print('Closing all valves')\n",
    "    ul.d_bit_out(board_num, 1, 1, 0)\n",
    "    ul.d_bit_out(board_num, 1, 2, 0)\n",
    "    ul.d_bit_out(board_num, 1, 3, 0)\n",
    "    ul.d_bit_out(board_num, 1, 4, 0)\n",
    "    ul.d_bit_out(board_num, 1, 5, 0)\n",
    "    ul.d_bit_out(board_num, 1, 6, 0)\n",
    "\n",
    "#wait 5 seconds\n",
    "#time.sleep(5)"
   ]
  },
  {
   "cell_type": "code",
   "execution_count": 21,
   "metadata": {},
   "outputs": [],
   "source": [
    "def red():\n",
    "    plt.text(0.5,0.5, \"+\", horizontalalignment='center', verticalalignment='center',color='red', size=50)\n",
    "    plt.axis('off')\n",
    "    plt.draw()\n",
    "    plt.pause(4)\n",
    "    \n",
    "def isi():\n",
    "    plt.text(0.5,0.5, \"+\",horizontalalignment='center', verticalalignment='center',color='black', size=50)\n",
    "    plt.axis('off')\n",
    "    plt.draw()\n",
    "    plt.pause(10)\n",
    "    \n",
    "    \n",
    "#replace sleep with plt.pause, they do the same thing"
   ]
  },
  {
   "cell_type": "code",
   "execution_count": 22,
   "metadata": {},
   "outputs": [],
   "source": [
    "isi()"
   ]
  },
  {
   "cell_type": "code",
   "execution_count": 46,
   "metadata": {},
   "outputs": [
    {
     "data": {
      "text/plain": [
       "<matplotlib.collections.PathCollection at 0x21b5eece3c8>"
      ]
     },
     "execution_count": 46,
     "metadata": {},
     "output_type": "execute_result"
    }
   ],
   "source": [
    "plt.scatter(1,1); plt.pause(5); plt.scatter(2,2)"
   ]
  },
  {
   "cell_type": "code",
   "execution_count": 16,
   "metadata": {},
   "outputs": [
    {
     "ename": "KeyboardInterrupt",
     "evalue": "",
     "output_type": "error",
     "traceback": [
      "\u001b[1;31m---------------------------------------------------------------------------\u001b[0m",
      "\u001b[1;31mKeyboardInterrupt\u001b[0m                         Traceback (most recent call last)",
      "\u001b[1;32m<ipython-input-16-810c398bf47a>\u001b[0m in \u001b[0;36m<module>\u001b[1;34m\u001b[0m\n\u001b[0;32m      3\u001b[0m \u001b[1;32mfor\u001b[0m \u001b[0mi\u001b[0m \u001b[1;32min\u001b[0m \u001b[0mrange\u001b[0m\u001b[1;33m(\u001b[0m\u001b[1;36m10\u001b[0m\u001b[1;33m)\u001b[0m\u001b[1;33m:\u001b[0m\u001b[1;33m\u001b[0m\u001b[1;33m\u001b[0m\u001b[0m\n\u001b[0;32m      4\u001b[0m     \u001b[0misi\u001b[0m\u001b[1;33m(\u001b[0m\u001b[1;36m1\u001b[0m\u001b[1;33m)\u001b[0m\u001b[1;33m\u001b[0m\u001b[1;33m\u001b[0m\u001b[0m\n\u001b[1;32m----> 5\u001b[1;33m     \u001b[0mred\u001b[0m\u001b[1;33m(\u001b[0m\u001b[1;33m)\u001b[0m\u001b[1;33m\u001b[0m\u001b[1;33m\u001b[0m\u001b[0m\n\u001b[0m\u001b[0;32m      6\u001b[0m \u001b[0mprint\u001b[0m\u001b[1;33m(\u001b[0m\u001b[1;34m'hello'\u001b[0m\u001b[1;33m)\u001b[0m\u001b[1;33m\u001b[0m\u001b[1;33m\u001b[0m\u001b[0m\n\u001b[0;32m      7\u001b[0m \u001b[0mplt\u001b[0m\u001b[1;33m.\u001b[0m\u001b[0mclose\u001b[0m\u001b[1;33m(\u001b[0m\u001b[1;33m)\u001b[0m\u001b[1;33m\u001b[0m\u001b[1;33m\u001b[0m\u001b[0m\n",
      "\u001b[1;32m<ipython-input-15-6dd097a6b020>\u001b[0m in \u001b[0;36mred\u001b[1;34m()\u001b[0m\n\u001b[0;32m      3\u001b[0m     \u001b[0mplt\u001b[0m\u001b[1;33m.\u001b[0m\u001b[0maxis\u001b[0m\u001b[1;33m(\u001b[0m\u001b[1;34m'off'\u001b[0m\u001b[1;33m)\u001b[0m\u001b[1;33m\u001b[0m\u001b[1;33m\u001b[0m\u001b[0m\n\u001b[0;32m      4\u001b[0m     \u001b[0mplt\u001b[0m\u001b[1;33m.\u001b[0m\u001b[0mdraw\u001b[0m\u001b[1;33m(\u001b[0m\u001b[1;33m)\u001b[0m\u001b[1;33m\u001b[0m\u001b[1;33m\u001b[0m\u001b[0m\n\u001b[1;32m----> 5\u001b[1;33m     \u001b[0mplt\u001b[0m\u001b[1;33m.\u001b[0m\u001b[0mpause\u001b[0m\u001b[1;33m(\u001b[0m\u001b[1;36m4\u001b[0m\u001b[1;33m)\u001b[0m\u001b[1;33m\u001b[0m\u001b[1;33m\u001b[0m\u001b[0m\n\u001b[0m\u001b[0;32m      6\u001b[0m \u001b[1;33m\u001b[0m\u001b[0m\n\u001b[0;32m      7\u001b[0m \u001b[1;32mdef\u001b[0m \u001b[0misi\u001b[0m\u001b[1;33m(\u001b[0m\u001b[0mx\u001b[0m\u001b[1;33m)\u001b[0m\u001b[1;33m:\u001b[0m\u001b[1;33m\u001b[0m\u001b[1;33m\u001b[0m\u001b[0m\n",
      "\u001b[1;32mC:\\Anaconda3\\lib\\site-packages\\matplotlib\\pyplot.py\u001b[0m in \u001b[0;36mpause\u001b[1;34m(interval)\u001b[0m\n\u001b[0;32m    293\u001b[0m             \u001b[0mcanvas\u001b[0m\u001b[1;33m.\u001b[0m\u001b[0mdraw_idle\u001b[0m\u001b[1;33m(\u001b[0m\u001b[1;33m)\u001b[0m\u001b[1;33m\u001b[0m\u001b[1;33m\u001b[0m\u001b[0m\n\u001b[0;32m    294\u001b[0m         \u001b[0mshow\u001b[0m\u001b[1;33m(\u001b[0m\u001b[0mblock\u001b[0m\u001b[1;33m=\u001b[0m\u001b[1;32mFalse\u001b[0m\u001b[1;33m)\u001b[0m\u001b[1;33m\u001b[0m\u001b[1;33m\u001b[0m\u001b[0m\n\u001b[1;32m--> 295\u001b[1;33m         \u001b[0mcanvas\u001b[0m\u001b[1;33m.\u001b[0m\u001b[0mstart_event_loop\u001b[0m\u001b[1;33m(\u001b[0m\u001b[0minterval\u001b[0m\u001b[1;33m)\u001b[0m\u001b[1;33m\u001b[0m\u001b[1;33m\u001b[0m\u001b[0m\n\u001b[0m\u001b[0;32m    296\u001b[0m     \u001b[1;32melse\u001b[0m\u001b[1;33m:\u001b[0m\u001b[1;33m\u001b[0m\u001b[1;33m\u001b[0m\u001b[0m\n\u001b[0;32m    297\u001b[0m         \u001b[0mtime\u001b[0m\u001b[1;33m.\u001b[0m\u001b[0msleep\u001b[0m\u001b[1;33m(\u001b[0m\u001b[0minterval\u001b[0m\u001b[1;33m)\u001b[0m\u001b[1;33m\u001b[0m\u001b[1;33m\u001b[0m\u001b[0m\n",
      "\u001b[1;32mC:\\Anaconda3\\lib\\site-packages\\matplotlib\\backends\\backend_qt5.py\u001b[0m in \u001b[0;36mstart_event_loop\u001b[1;34m(self, timeout)\u001b[0m\n\u001b[0;32m    481\u001b[0m         \u001b[1;32mif\u001b[0m \u001b[0mtimeout\u001b[0m\u001b[1;33m:\u001b[0m\u001b[1;33m\u001b[0m\u001b[1;33m\u001b[0m\u001b[0m\n\u001b[0;32m    482\u001b[0m             \u001b[0mtimer\u001b[0m \u001b[1;33m=\u001b[0m \u001b[0mQtCore\u001b[0m\u001b[1;33m.\u001b[0m\u001b[0mQTimer\u001b[0m\u001b[1;33m.\u001b[0m\u001b[0msingleShot\u001b[0m\u001b[1;33m(\u001b[0m\u001b[0mtimeout\u001b[0m \u001b[1;33m*\u001b[0m \u001b[1;36m1000\u001b[0m\u001b[1;33m,\u001b[0m \u001b[0mevent_loop\u001b[0m\u001b[1;33m.\u001b[0m\u001b[0mquit\u001b[0m\u001b[1;33m)\u001b[0m\u001b[1;33m\u001b[0m\u001b[1;33m\u001b[0m\u001b[0m\n\u001b[1;32m--> 483\u001b[1;33m         \u001b[0mevent_loop\u001b[0m\u001b[1;33m.\u001b[0m\u001b[0mexec_\u001b[0m\u001b[1;33m(\u001b[0m\u001b[1;33m)\u001b[0m\u001b[1;33m\u001b[0m\u001b[1;33m\u001b[0m\u001b[0m\n\u001b[0m\u001b[0;32m    484\u001b[0m \u001b[1;33m\u001b[0m\u001b[0m\n\u001b[0;32m    485\u001b[0m     \u001b[1;32mdef\u001b[0m \u001b[0mstop_event_loop\u001b[0m\u001b[1;33m(\u001b[0m\u001b[0mself\u001b[0m\u001b[1;33m,\u001b[0m \u001b[0mevent\u001b[0m\u001b[1;33m=\u001b[0m\u001b[1;32mNone\u001b[0m\u001b[1;33m)\u001b[0m\u001b[1;33m:\u001b[0m\u001b[1;33m\u001b[0m\u001b[1;33m\u001b[0m\u001b[0m\n",
      "\u001b[1;31mKeyboardInterrupt\u001b[0m: "
     ]
    }
   ],
   "source": [
    "%matplotlib qt\n",
    "\n",
    "for i in range(10):    \n",
    "    isi(1)\n",
    "    red()\n",
    "print('hello')\n",
    "plt.close()\n"
   ]
  },
  {
   "cell_type": "code",
   "execution_count": 2,
   "metadata": {},
   "outputs": [
    {
     "ename": "NameError",
     "evalue": "name 'ul' is not defined",
     "output_type": "error",
     "traceback": [
      "\u001b[1;31m---------------------------------------------------------------------------\u001b[0m",
      "\u001b[1;31mNameError\u001b[0m                                 Traceback (most recent call last)",
      "\u001b[1;32m<ipython-input-2-8582b3a62035>\u001b[0m in \u001b[0;36m<module>\u001b[1;34m\u001b[0m\n\u001b[1;32m----> 1\u001b[1;33m \u001b[0mleft_air\u001b[0m \u001b[1;33m=\u001b[0m \u001b[0mul\u001b[0m\u001b[1;33m.\u001b[0m\u001b[0md_bit_out\u001b[0m\u001b[1;33m(\u001b[0m\u001b[0mboard_num\u001b[0m\u001b[1;33m,\u001b[0m \u001b[1;36m1\u001b[0m\u001b[1;33m,\u001b[0m \u001b[1;36m1\u001b[0m\u001b[1;33m,\u001b[0m \u001b[1;36m1\u001b[0m\u001b[1;33m)\u001b[0m\u001b[1;33m\u001b[0m\u001b[1;33m\u001b[0m\u001b[0m\n\u001b[0m\u001b[0;32m      2\u001b[0m \u001b[0mright_air\u001b[0m \u001b[1;33m=\u001b[0m \u001b[0mul\u001b[0m\u001b[1;33m.\u001b[0m\u001b[0md_bit_out\u001b[0m\u001b[1;33m(\u001b[0m\u001b[0mboard_num\u001b[0m\u001b[1;33m,\u001b[0m \u001b[1;36m1\u001b[0m\u001b[1;33m,\u001b[0m \u001b[1;36m2\u001b[0m\u001b[1;33m,\u001b[0m \u001b[1;36m1\u001b[0m\u001b[1;33m)\u001b[0m\u001b[1;33m\u001b[0m\u001b[1;33m\u001b[0m\u001b[0m\n\u001b[0;32m      3\u001b[0m \u001b[1;33m\u001b[0m\u001b[0m\n\u001b[0;32m      4\u001b[0m \u001b[0mleft_air_close\u001b[0m \u001b[1;33m=\u001b[0m \u001b[0mul\u001b[0m\u001b[1;33m.\u001b[0m\u001b[0md_bit_out\u001b[0m\u001b[1;33m(\u001b[0m\u001b[0mboard_num\u001b[0m\u001b[1;33m,\u001b[0m \u001b[1;36m1\u001b[0m\u001b[1;33m,\u001b[0m \u001b[1;36m1\u001b[0m\u001b[1;33m,\u001b[0m \u001b[1;36m0\u001b[0m\u001b[1;33m)\u001b[0m\u001b[1;33m\u001b[0m\u001b[1;33m\u001b[0m\u001b[0m\n\u001b[0;32m      5\u001b[0m \u001b[0mright_air_close\u001b[0m \u001b[1;33m=\u001b[0m \u001b[0mul\u001b[0m\u001b[1;33m.\u001b[0m\u001b[0md_bit_out\u001b[0m\u001b[1;33m(\u001b[0m\u001b[0mboard_num\u001b[0m\u001b[1;33m,\u001b[0m \u001b[1;36m1\u001b[0m\u001b[1;33m,\u001b[0m \u001b[1;36m2\u001b[0m\u001b[1;33m,\u001b[0m \u001b[1;36m0\u001b[0m\u001b[1;33m)\u001b[0m\u001b[1;33m\u001b[0m\u001b[1;33m\u001b[0m\u001b[0m\n",
      "\u001b[1;31mNameError\u001b[0m: name 'ul' is not defined"
     ]
    }
   ],
   "source": [
    "left_air = ul.d_bit_out(board_num, 1, 1, 1)\n",
    "right_air = ul.d_bit_out(board_num, 1, 2, 1)\n",
    "\n",
    "left_air_close = ul.d_bit_out(board_num, 1, 1, 0)\n",
    "right_air_close = ul.d_bit_out(board_num, 1, 2, 0)\n",
    "\n",
    "odor_right_close = ul.d_bit_out(board_num, 1, 6, 0)\n",
    "odor_right = ul.d_bit_out(board_num, 1, 6, 1)\n",
    "\n",
    "odor_left = ul.d_bit_out(board_num, 1, 5, 1)\n",
    "odor_left_close = ul.d_bit_out(board_num, 1, 5, 0)"
   ]
  },
  {
   "cell_type": "code",
   "execution_count": 14,
   "metadata": {},
   "outputs": [],
   "source": [
    "def flush_open():\n",
    "    \n",
    "    ul.d_bit_out(board_num, 1, 1, 1)\n",
    "    ul.d_bit_out(board_num, 1, 2, 1)\n",
    "    black()\n",
    "    #print('open air valves')\n",
    "\n",
    "def flush_close():\n",
    "    \n",
    "    ul.d_bit_out(board_num, 1, 1, 0)\n",
    "    ul.d_bit_out(board_num, 1, 2, 0)\n",
    "    #print('close air valves')\n",
    "    \n",
    "def air_pause():\n",
    "    flush_close()\n",
    "    red()\n",
    "    flush_open()\n",
    "    \n",
    "def air_right():\n",
    "    ul.d_bit_out(board_num, 1, 1, 0)\n",
    "    ul.d_bit_out(board_num, 1, 3, 1)\n",
    "    print('hold for 4 seconds')\n",
    "    red()\n",
    "    #print('odor right closes')\n",
    "    ul.d_bit_out(board_num, 1, 1, 1)\n",
    "    ul.d_bit_out(board_num, 1, 3, 0)\n",
    "\n",
    "def air_left():\n",
    "    ul.d_bit_out(board_num, 1, 2, 0)\n",
    "    ul.d_bit_out(board_num, 1, 3, 1)\n",
    "    print('hold for 4 seconds')\n",
    "    red()\n",
    "    #print('odor right closes')\n",
    "    ul.d_bit_out(board_num, 1, 2, 1)\n",
    "    ul.d_bit_out(board_num, 1, 3, 0)\n",
    "    \n",
    "def odor_close():\n",
    "    ul.d_bit_out(board_num, 1, 5, 0)\n",
    "    ul.d_bit_out(board_num, 1, 6, 0)\n",
    "    red()\n",
    "    #print('close valves')\n",
    "    \n",
    "def odor_right():\n",
    "    ul.d_bit_out(board_num, 1, 2, 0)\n",
    "    ul.d_bit_out(board_num, 1, 1, 1)\n",
    "    ul.d_bit_out(board_num, 1, 6, 1)\n",
    "    print('hold for 4 seconds')\n",
    "    red()\n",
    "    #print('odor right closes')\n",
    "    ul.d_bit_out(board_num, 1, 6, 0)\n",
    "    ul.d_bit_out(board_num, 1, 2, 1)\n",
    "\n",
    "def odor_left():\n",
    "    ul.d_bit_out(board_num, 1, 1, 0)\n",
    "    ul.d_bit_out(board_num, 1, 2, 1)\n",
    "    ul.d_bit_out(board_num, 1, 5, 1)\n",
    "    print('Hold for 4 seconds')\n",
    "    red()\n",
    "    print('Breathe')\n",
    "    ul.d_bit_out(board_num, 1, 5, 0)\n",
    "    ul.d_bit_out(board_num, 1, 1, 1)\n",
    "    \n",
    "def odor_both():\n",
    "    flush_close()\n",
    "    ul.d_bit_out(board_num, 1, 5, 1)\n",
    "    ul.d_bit_out(board_num, 1, 6, 1)\n",
    "    print('Hold for 4 seconds')\n",
    "    red()\n",
    "    print ('Breathe')\n",
    "    odor_close()\n",
    "    flush_open()\n",
    "\n",
    "def begin():\n",
    "    for i in range(10,0,-1):\n",
    "        sys.stdout.write(str(i)+' ')\n",
    "        sys.stdout.flush()\n",
    "        sleep(1)\n",
    "    print ('Start')"
   ]
  },
  {
   "cell_type": "code",
   "execution_count": 15,
   "metadata": {},
   "outputs": [
    {
     "name": "stdout",
     "output_type": "stream",
     "text": [
      "Closing all valves\n"
     ]
    }
   ],
   "source": [
    "close_all()"
   ]
  },
  {
   "cell_type": "code",
   "execution_count": 29,
   "metadata": {},
   "outputs": [
    {
     "name": "stdout",
     "output_type": "stream",
     "text": [
      "open odor right\n"
     ]
    }
   ],
   "source": [
    "ul.d_bit_out(board_num, 1, 6, 1)\n",
    "print('open odor right')"
   ]
  },
  {
   "cell_type": "code",
   "execution_count": 30,
   "metadata": {},
   "outputs": [
    {
     "name": "stdout",
     "output_type": "stream",
     "text": [
      "close odor right\n"
     ]
    }
   ],
   "source": [
    "ul.d_bit_out(board_num, 1, 5, 1)\n",
    "print('close odor right')"
   ]
  },
  {
   "cell_type": "code",
   "execution_count": 160,
   "metadata": {},
   "outputs": [],
   "source": [
    "flush_open()"
   ]
  },
  {
   "cell_type": "code",
   "execution_count": 13,
   "metadata": {},
   "outputs": [
    {
     "name": "stdout",
     "output_type": "stream",
     "text": [
      "Experiment begins in 10 seconds\n",
      "10 9 8 7 6 5 4 3 2 1 "
     ]
    },
    {
     "ename": "KeyboardInterrupt",
     "evalue": "",
     "output_type": "error",
     "traceback": [
      "\u001b[1;31m---------------------------------------------------------------------------\u001b[0m",
      "\u001b[1;31mKeyboardInterrupt\u001b[0m                         Traceback (most recent call last)",
      "\u001b[1;32m<ipython-input-13-84567561fccc>\u001b[0m in \u001b[0;36m<module>\u001b[1;34m\u001b[0m\n\u001b[0;32m      3\u001b[0m \u001b[1;33m\u001b[0m\u001b[0m\n\u001b[0;32m      4\u001b[0m \u001b[0mprint\u001b[0m\u001b[1;33m(\u001b[0m\u001b[1;34m'Experiment begins in 10 seconds'\u001b[0m\u001b[1;33m)\u001b[0m\u001b[1;33m\u001b[0m\u001b[1;33m\u001b[0m\u001b[0m\n\u001b[1;32m----> 5\u001b[1;33m \u001b[0mbegin\u001b[0m\u001b[1;33m(\u001b[0m\u001b[1;33m)\u001b[0m\u001b[1;33m\u001b[0m\u001b[1;33m\u001b[0m\u001b[0m\n\u001b[0m\u001b[0;32m      6\u001b[0m \u001b[1;33m\u001b[0m\u001b[0m\n\u001b[0;32m      7\u001b[0m \u001b[0mair_left\u001b[0m\u001b[1;33m(\u001b[0m\u001b[1;33m)\u001b[0m\u001b[1;33m\u001b[0m\u001b[1;33m\u001b[0m\u001b[0m\n",
      "\u001b[1;32m<ipython-input-11-2f80a7bfda49>\u001b[0m in \u001b[0;36mbegin\u001b[1;34m()\u001b[0m\n\u001b[0;32m     76\u001b[0m         \u001b[0msleep\u001b[0m\u001b[1;33m(\u001b[0m\u001b[1;36m1\u001b[0m\u001b[1;33m)\u001b[0m\u001b[1;33m\u001b[0m\u001b[1;33m\u001b[0m\u001b[0m\n\u001b[0;32m     77\u001b[0m     \u001b[1;32mfor\u001b[0m \u001b[0mx\u001b[0m \u001b[1;32min\u001b[0m \u001b[0mrange\u001b[0m\u001b[1;33m(\u001b[0m\u001b[1;36m10\u001b[0m\u001b[1;33m)\u001b[0m\u001b[1;33m:\u001b[0m\u001b[1;33m\u001b[0m\u001b[1;33m\u001b[0m\u001b[0m\n\u001b[1;32m---> 78\u001b[1;33m         \u001b[0mred\u001b[0m\u001b[1;33m(\u001b[0m\u001b[1;33m)\u001b[0m\u001b[1;33m\u001b[0m\u001b[1;33m\u001b[0m\u001b[0m\n\u001b[0m\u001b[0;32m     79\u001b[0m         \u001b[0mblack\u001b[0m\u001b[1;33m(\u001b[0m\u001b[1;33m)\u001b[0m\u001b[1;33m\u001b[0m\u001b[1;33m\u001b[0m\u001b[0m\n\u001b[0;32m     80\u001b[0m         \u001b[0mx\u001b[0m\u001b[1;33m+=\u001b[0m\u001b[1;36m1\u001b[0m\u001b[1;33m\u001b[0m\u001b[1;33m\u001b[0m\u001b[0m\n",
      "\u001b[1;32m<ipython-input-8-e9cf98452bcd>\u001b[0m in \u001b[0;36mred\u001b[1;34m()\u001b[0m\n\u001b[0;32m      3\u001b[0m     \u001b[0mplt\u001b[0m\u001b[1;33m.\u001b[0m\u001b[0maxis\u001b[0m\u001b[1;33m(\u001b[0m\u001b[1;34m'off'\u001b[0m\u001b[1;33m)\u001b[0m\u001b[1;33m\u001b[0m\u001b[1;33m\u001b[0m\u001b[0m\n\u001b[0;32m      4\u001b[0m     \u001b[0mplt\u001b[0m\u001b[1;33m.\u001b[0m\u001b[0mshow\u001b[0m\u001b[1;33m(\u001b[0m\u001b[1;33m)\u001b[0m\u001b[1;33m\u001b[0m\u001b[1;33m\u001b[0m\u001b[0m\n\u001b[1;32m----> 5\u001b[1;33m     \u001b[0mplt\u001b[0m\u001b[1;33m.\u001b[0m\u001b[0mpause\u001b[0m\u001b[1;33m(\u001b[0m\u001b[1;36m4\u001b[0m\u001b[1;33m)\u001b[0m\u001b[1;33m\u001b[0m\u001b[1;33m\u001b[0m\u001b[0m\n\u001b[0m\u001b[0;32m      6\u001b[0m \u001b[1;33m\u001b[0m\u001b[0m\n\u001b[0;32m      7\u001b[0m \u001b[1;32mdef\u001b[0m \u001b[0mblack\u001b[0m\u001b[1;33m(\u001b[0m\u001b[1;33m)\u001b[0m\u001b[1;33m:\u001b[0m\u001b[1;33m\u001b[0m\u001b[1;33m\u001b[0m\u001b[0m\n",
      "\u001b[1;32mC:\\Anaconda3\\lib\\site-packages\\matplotlib\\pyplot.py\u001b[0m in \u001b[0;36mpause\u001b[1;34m(interval)\u001b[0m\n\u001b[0;32m    293\u001b[0m             \u001b[0mcanvas\u001b[0m\u001b[1;33m.\u001b[0m\u001b[0mdraw_idle\u001b[0m\u001b[1;33m(\u001b[0m\u001b[1;33m)\u001b[0m\u001b[1;33m\u001b[0m\u001b[1;33m\u001b[0m\u001b[0m\n\u001b[0;32m    294\u001b[0m         \u001b[0mshow\u001b[0m\u001b[1;33m(\u001b[0m\u001b[0mblock\u001b[0m\u001b[1;33m=\u001b[0m\u001b[1;32mFalse\u001b[0m\u001b[1;33m)\u001b[0m\u001b[1;33m\u001b[0m\u001b[1;33m\u001b[0m\u001b[0m\n\u001b[1;32m--> 295\u001b[1;33m         \u001b[0mcanvas\u001b[0m\u001b[1;33m.\u001b[0m\u001b[0mstart_event_loop\u001b[0m\u001b[1;33m(\u001b[0m\u001b[0minterval\u001b[0m\u001b[1;33m)\u001b[0m\u001b[1;33m\u001b[0m\u001b[1;33m\u001b[0m\u001b[0m\n\u001b[0m\u001b[0;32m    296\u001b[0m     \u001b[1;32melse\u001b[0m\u001b[1;33m:\u001b[0m\u001b[1;33m\u001b[0m\u001b[1;33m\u001b[0m\u001b[0m\n\u001b[0;32m    297\u001b[0m         \u001b[0mtime\u001b[0m\u001b[1;33m.\u001b[0m\u001b[0msleep\u001b[0m\u001b[1;33m(\u001b[0m\u001b[0minterval\u001b[0m\u001b[1;33m)\u001b[0m\u001b[1;33m\u001b[0m\u001b[1;33m\u001b[0m\u001b[0m\n",
      "\u001b[1;32mC:\\Anaconda3\\lib\\site-packages\\matplotlib\\backends\\backend_qt5.py\u001b[0m in \u001b[0;36mstart_event_loop\u001b[1;34m(self, timeout)\u001b[0m\n\u001b[0;32m    481\u001b[0m         \u001b[1;32mif\u001b[0m \u001b[0mtimeout\u001b[0m\u001b[1;33m:\u001b[0m\u001b[1;33m\u001b[0m\u001b[1;33m\u001b[0m\u001b[0m\n\u001b[0;32m    482\u001b[0m             \u001b[0mtimer\u001b[0m \u001b[1;33m=\u001b[0m \u001b[0mQtCore\u001b[0m\u001b[1;33m.\u001b[0m\u001b[0mQTimer\u001b[0m\u001b[1;33m.\u001b[0m\u001b[0msingleShot\u001b[0m\u001b[1;33m(\u001b[0m\u001b[0mtimeout\u001b[0m \u001b[1;33m*\u001b[0m \u001b[1;36m1000\u001b[0m\u001b[1;33m,\u001b[0m \u001b[0mevent_loop\u001b[0m\u001b[1;33m.\u001b[0m\u001b[0mquit\u001b[0m\u001b[1;33m)\u001b[0m\u001b[1;33m\u001b[0m\u001b[1;33m\u001b[0m\u001b[0m\n\u001b[1;32m--> 483\u001b[1;33m         \u001b[0mevent_loop\u001b[0m\u001b[1;33m.\u001b[0m\u001b[0mexec_\u001b[0m\u001b[1;33m(\u001b[0m\u001b[1;33m)\u001b[0m\u001b[1;33m\u001b[0m\u001b[1;33m\u001b[0m\u001b[0m\n\u001b[0m\u001b[0;32m    484\u001b[0m \u001b[1;33m\u001b[0m\u001b[0m\n\u001b[0;32m    485\u001b[0m     \u001b[1;32mdef\u001b[0m \u001b[0mstop_event_loop\u001b[0m\u001b[1;33m(\u001b[0m\u001b[0mself\u001b[0m\u001b[1;33m,\u001b[0m \u001b[0mevent\u001b[0m\u001b[1;33m=\u001b[0m\u001b[1;32mNone\u001b[0m\u001b[1;33m)\u001b[0m\u001b[1;33m:\u001b[0m\u001b[1;33m\u001b[0m\u001b[1;33m\u001b[0m\u001b[0m\n",
      "\u001b[1;31mKeyboardInterrupt\u001b[0m: "
     ]
    }
   ],
   "source": [
    "#CO2 PARADIGM\n",
    "flush_open()\n",
    "\n",
    "plt.text(0.5,0.5, \"+\",color='black', size=50) #4-6, initialise fixation cross\n",
    "plt.axis('off')\n",
    "plt.show()\n",
    "\n",
    "#Replace all sleep commands with plt.pause or functions defined above\n",
    "\n",
    "print('Experiment begins in 10 seconds')\n",
    "begin()\n",
    "\n",
    "air_left()\n",
    "#CO2 right\n",
    "\n",
    "isi(10)\n",
    "\n",
    "\n",
    "air_pause() #CO2 both\n",
    "\n",
    "isi(10)\n",
    "\n",
    "air_right() #CO2 left\n",
    "isi(10)\n",
    "\n",
    "air_right() #CO2 left\n",
    "isi(10)\n",
    "\n",
    "air_right() #CO2 left\n",
    "isi(10)\n",
    "\n",
    "air_left() #CO2 right\n",
    "sleep(10)\n",
    "\n",
    "air_pause() #CO2 both\n",
    "sleep(10)\n",
    "\n",
    "odor_close() #fake stimulus\n",
    "sleep(10)\n",
    "\n",
    "odor_close() #fake stimulus\n",
    "sleep(10)\n",
    "\n",
    "odor_close() #fake stimulus\n",
    "sleep(10)\n",
    "\n",
    "air_left() #CO2 right\n",
    "sleep(10)\n",
    "\n",
    "odor_close() #fake stimulus\n",
    "sleep(10)\n",
    "\n",
    "air_pause() #CO2 both\n",
    "sleep(10)\n",
    "\n",
    "air_left() #CO2 right\n",
    "sleep(10)\n",
    "\n",
    "air_right() #CO2 left\n",
    "sleep(10)\n",
    "\n",
    "air_pause() #CO2 both\n",
    "sleep(10)\n",
    "\n",
    "odor_close() #fake stimulus\n",
    "sleep(10)\n",
    "\n",
    "air_right() #CO2 left\n",
    "sleep(10)\n",
    "\n",
    "air_left() #CO2 right\n",
    "sleep(10)\n",
    "\n",
    "air_pause() #CO2 both\n",
    "\n",
    "print('Experiment is finished\\nThanks for participating!')\n",
    "plt.close()"
   ]
  },
  {
   "cell_type": "code",
   "execution_count": 46,
   "metadata": {},
   "outputs": [
    {
     "name": "stdout",
     "output_type": "stream",
     "text": [
      "close air valves\n",
      "odor both\n",
      "close odor valves\n",
      "open air valves\n",
      "odor right for 4 seconds\n",
      "odor right closes\n"
     ]
    }
   ],
   "source": [
    "#paradigm begins here\n",
    "odor_both()\n",
    "isi\n",
    "odor_right()"
   ]
  },
  {
   "cell_type": "code",
   "execution_count": 33,
   "metadata": {},
   "outputs": [
    {
     "name": "stdout",
     "output_type": "stream",
     "text": [
      "Closing all valves\n"
     ]
    }
   ],
   "source": [
    "close_all()"
   ]
  },
  {
   "cell_type": "code",
   "execution_count": 4,
   "metadata": {},
   "outputs": [
    {
     "name": "stdout",
     "output_type": "stream",
     "text": [
      "Closing all valves\n",
      "open valves for 1 s\n"
     ]
    }
   ],
   "source": [
    "ul.d_bit_out(board_num, 1, 1, 1)\n",
    "right_air_close\n",
    "odor_right\n",
    "# wait 4 more seconds\n",
    "time.sleep(4)\n",
    "\n",
    "odor_right_close\n",
    "left_air\n",
    "right_air\n",
    "time.sleep(10)\n",
    "\n",
    "\n",
    "ul.d_bit_out(board_num, 1, 3, 1)\n",
    "ul.d_bit_out(board_num, 1, 6, 1)\n",
    "time.sleep(1)\n",
    "ul.d_bit_out(board_num, 1, 3, 0)\n",
    "ul.d_bit_out(board_num, 1, 6, 0)\n",
    "\n",
    "\n",
    "# some fancy pulsing\n",
    "ul.d_bit_out(board_num, 1, 1, 1)\n",
    "ul.d_bit_out(board_num, 1, 3, 1)\n",
    "ul.d_bit_out(board_num, 1, 6, 1)\n",
    "time.sleep(0.3)\n",
    "ul.d_bit_out(board_num, 1, 2, 1)\n",
    "ul.d_bit_out(board_num, 1, 1, 0)\n",
    "ul.d_bit_out(board_num, 1, 4, 1)\n",
    "time.sleep(0.5)\n",
    "ul.d_bit_out(board_num, 1, 1, 0)\n",
    "ul.d_bit_out(board_num, 1, 2, 0)\n",
    "ul.d_bit_out(board_num, 1, 4, 0)\n",
    "ul.d_bit_out(board_num, 1, 5, 1)\n",
    "\n",
    "# close everything\n",
    "time.sleep(1)\n",
    "ul.d_bit_out(board_num, 1, 1, 0)\n",
    "ul.d_bit_out(board_num, 1, 2, 0)\n",
    "ul.d_bit_out(board_num, 1, 3, 0)\n",
    "ul.d_bit_out(board_num, 1, 4, 0)\n",
    "ul.d_bit_out(board_num, 1, 5, 0)\n",
    "ul.d_bit_out(board_num, 1, 6, 0)"
   ]
  },
  {
   "cell_type": "code",
   "execution_count": 5,
   "metadata": {},
   "outputs": [],
   "source": [
    "ul.d_bit_out(board_num, 1, 2, 1)\n",
    "time.sleep(10)\n",
    "ul.d_bit_out(board_num, 1, 2, 0)"
   ]
  },
  {
   "cell_type": "code",
   "execution_count": 11,
   "metadata": {},
   "outputs": [
    {
     "data": {
      "image/png": "[encoded data removed]",
      "text/plain": [
       "<Figure size 432x288 with 1 Axes>"
      ]
     },
     "metadata": {
      "needs_background": "light"
     },
     "output_type": "display_data"
    }
   ],
   "source": [
    "red()"
   ]
  },
  {
   "cell_type": "code",
   "execution_count": null,
   "metadata": {},
   "outputs": [],
   "source": []
  }
 ],
 "metadata": {
  "kernelspec": {
   "display_name": "Python 3",
   "language": "python",
   "name": "python3"
  },
  "language_info": {
   "codemirror_mode": {
    "name": "ipython",
    "version": 3
   },
   "file_extension": ".py",
   "mimetype": "text/x-python",
   "name": "python",
   "nbconvert_exporter": "python",
   "pygments_lexer": "ipython3",
   "version": "3.7.1"
  }
 },
 "nbformat": 4,
 "nbformat_minor": 4
}
